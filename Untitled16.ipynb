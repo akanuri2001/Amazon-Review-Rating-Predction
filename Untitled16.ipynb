{
 "cells": [
  {
   "cell_type": "code",
   "execution_count": 1,
   "id": "4189a804",
   "metadata": {},
   "outputs": [],
   "source": [
    "import pandas as pd\n",
    "import numpy as np\n",
    "from sklearn.model_selection import train_test_split, GridSearchCV\n",
    "from sklearn.feature_extraction.text import TfidfVectorizer\n",
    "from sklearn.ensemble import RandomForestClassifier\n",
    "from sklearn.metrics import accuracy_score, classification_report\n",
    "from sklearn.pipeline import Pipeline\n",
    "import nltk\n",
    "from nltk.stem import WordNetLemmatizer\n",
    "from nltk.corpus import stopwords"
   ]
  },
  {
   "cell_type": "code",
   "execution_count": 6,
   "id": "dea6d722",
   "metadata": {},
   "outputs": [
    {
     "name": "stderr",
     "output_type": "stream",
     "text": [
      "[nltk_data] Downloading package stopwords to\n",
      "[nltk_data]     C:\\Users\\91970\\AppData\\Roaming\\nltk_data...\n",
      "[nltk_data]   Package stopwords is already up-to-date!\n"
     ]
    }
   ],
   "source": [
    "# Ensure that NLTK resources are downloaded\n",
    "nltk.download('stopwords')\n",
    "\n",
    "# Load stopwords from NLTK\n",
    "stop_words = stopwords.words('english')\n"
   ]
  },
  {
   "cell_type": "code",
   "execution_count": 3,
   "id": "1d09edd7",
   "metadata": {},
   "outputs": [],
   "source": [
    "# Lemmatizer function\n",
    "def lemmatize_text(text):\n",
    "    lemmatizer = WordNetLemmatizer()\n",
    "    return ' '.join([lemmatizer.lemmatize(word) for word in text.split()])"
   ]
  },
  {
   "cell_type": "code",
   "execution_count": 4,
   "id": "5be2d2cc",
   "metadata": {},
   "outputs": [],
   "source": [
    "# Define the file paths\n",
    "training_path = r'C:\\Users\\91970\\Downloads\\final-competition-fall2023 (1)\\foods_training.csv'\n",
    "testing_path = r'C:\\Users\\91970\\Downloads\\final-competition-fall2023 (1)\\foods_testing.csv'\n",
    "sample_submission_path = r'C:\\Users\\91970\\Downloads\\final-competition-fall2023 (1)\\sample_submission.csv'\n"
   ]
  },
  {
   "cell_type": "code",
   "execution_count": 7,
   "id": "57d64b04",
   "metadata": {},
   "outputs": [
    {
     "name": "stdout",
     "output_type": "stream",
     "text": [
      "Training data loaded successfully.\n",
      "Testing data loaded successfully.\n"
     ]
    }
   ],
   "source": [
    "try:\n",
    "    # Load the training data\n",
    "    df = pd.read_csv(training_path, sep=',', encoding='ISO-8859-1', quotechar='\"', nrows=10000)\n",
    "    print(\"Training data loaded successfully.\")\n",
    "\n",
    "    # Load the testing data\n",
    "    testing_data = pd.read_csv(testing_path, sep=',', encoding='ISO-8859-1', quotechar='\"')\n",
    "    print(\"Testing data loaded successfully.\")\n",
    "except Exception as e:\n",
    "    print(\"An error occurred:\", e)\n"
   ]
  },
  {
   "cell_type": "code",
   "execution_count": 9,
   "id": "a61c40c3",
   "metadata": {},
   "outputs": [
    {
     "name": "stdout",
     "output_type": "stream",
     "text": [
      "Data copied for preprocessing.\n"
     ]
    }
   ],
   "source": [
    "# Select only the required fields from both datasets and explicitly handle potential copies\n",
    "data = df[['helpfulness', 'summary', 'text', 'score_level']].copy()\n",
    "testing_data = testing_data[['ID', 'helpfulness', 'summary', 'text']].copy()\n",
    "print(\"Data copied for preprocessing.\")"
   ]
  },
  {
   "cell_type": "code",
   "execution_count": 11,
   "id": "b7522d0c",
   "metadata": {},
   "outputs": [
    {
     "name": "stdout",
     "output_type": "stream",
     "text": [
      "Preprocessing complete.\n"
     ]
    }
   ],
   "source": [
    "# Preprocess and combine 'summary' and 'text' columns\n",
    "data['summary'] = data['summary'].fillna('').apply(lemmatize_text)\n",
    "data['text'] = data['text'].fillna('').apply(lemmatize_text)\n",
    "data['full_text'] = data['summary'] + ' ' + data['text']\n",
    "testing_data['summary'] = testing_data['summary'].fillna('').apply(lemmatize_text)\n",
    "testing_data['text'] = testing_data['text'].fillna('').apply(lemmatize_text)\n",
    "testing_data['full_text'] = testing_data['summary'] + ' ' + testing_data['text']\n",
    "print(\"Preprocessing complete.\")\n"
   ]
  },
  {
   "cell_type": "code",
   "execution_count": 12,
   "id": "09480248",
   "metadata": {},
   "outputs": [],
   "source": [
    "# Initialize TfidfVectorizer\n",
    "tfidf_vectorizer = TfidfVectorizer(stop_words=stop_words)"
   ]
  },
  {
   "cell_type": "code",
   "execution_count": 14,
   "id": "fa05e3b4",
   "metadata": {},
   "outputs": [
    {
     "name": "stdout",
     "output_type": "stream",
     "text": [
      "Pipeline(steps=[('tfidf',\n",
      "                 TfidfVectorizer(stop_words=['i', 'me', 'my', 'myself', 'we',\n",
      "                                             'our', 'ours', 'ourselves', 'you',\n",
      "                                             \"you're\", \"you've\", \"you'll\",\n",
      "                                             \"you'd\", 'your', 'yours',\n",
      "                                             'yourself', 'yourselves', 'he',\n",
      "                                             'him', 'his', 'himself', 'she',\n",
      "                                             \"she's\", 'her', 'hers', 'herself',\n",
      "                                             'it', \"it's\", 'its', 'itself', ...])),\n",
      "                ('clf', RandomForestClassifier(random_state=42))])\n"
     ]
    }
   ],
   "source": [
    "# Define the pipeline\n",
    "pipeline = Pipeline([\n",
    "('tfidf', tfidf_vectorizer),\n",
    "('clf', RandomForestClassifier(random_state=42))\n",
    "    ])\n",
    "print(pipeline)"
   ]
  },
  {
   "cell_type": "code",
   "execution_count": 16,
   "id": "82c25468",
   "metadata": {},
   "outputs": [
    {
     "name": "stdout",
     "output_type": "stream",
     "text": [
      "{'clf__n_estimators': [100, 200], 'clf__max_depth': [None, 10, 20], 'clf__min_samples_leaf': [1, 2], 'clf__min_samples_split': [2, 5]}\n"
     ]
    }
   ],
   "source": [
    "# Define the parameter grid\n",
    "param_grid = {\n",
    "        'clf__n_estimators': [100, 200],\n",
    "        'clf__max_depth': [None, 10, 20],\n",
    "        'clf__min_samples_leaf': [1, 2],\n",
    "        'clf__min_samples_split': [2, 5]\n",
    "    }\n",
    "print(param_grid)"
   ]
  },
  {
   "cell_type": "code",
   "execution_count": null,
   "id": "82e60c67",
   "metadata": {},
   "outputs": [
    {
     "name": "stdout",
     "output_type": "stream",
     "text": [
      "Fitting 3 folds for each of 24 candidates, totalling 72 fits\n"
     ]
    }
   ],
   "source": [
    "# Grid search with cross-validation\n",
    "grid_search = GridSearchCV(pipeline, param_grid, cv=3, verbose=2, n_jobs=-1)\n",
    "grid_search.fit(data['full_text'], data['score_level'])\n",
    "print(\"Grid search complete.\")"
   ]
  },
  {
   "cell_type": "code",
   "execution_count": null,
   "id": "d5bc29fe",
   "metadata": {},
   "outputs": [],
   "source": [
    "# Best model\n",
    "print(\"Best parameters:\", grid_search.best_params_)\n",
    "best_model = grid_search.best_estimator_\n"
   ]
  },
  {
   "cell_type": "code",
   "execution_count": null,
   "id": "a7ee95c5",
   "metadata": {},
   "outputs": [],
   "source": [
    "# Evaluate on training set\n",
    "y_pred = best_model.predict(data['full_text'])\n",
    "print(\"Training Accuracy: {:.2f}\".format(accuracy_score(data['score_level'], y_pred)))\n",
    "print(classification_report(data['score_level'], y_pred))"
   ]
  },
  {
   "cell_type": "code",
   "execution_count": null,
   "id": "1be64caf",
   "metadata": {},
   "outputs": [],
   "source": [
    " # Prepare testing data and predictions\n",
    "y_test_pred = best_model.predict(testing_data['full_text'])\n",
    "predictions_df = pd.DataFrame({'ID': testing_data['ID'], 'predicted_score_level': y_test_pred})\n",
    "predictions_df.to_csv(sample_submission_path, index=False)\n",
    "print(\"Predictions saved to file.\")\n",
    "except Exception as e:\n",
    "    print(\"An error occurred:\", e)\n",
    " "
   ]
  },
  {
   "cell_type": "code",
   "execution_count": null,
   "id": "180f55f3",
   "metadata": {},
   "outputs": [],
   "source": []
  }
 ],
 "metadata": {
  "kernelspec": {
   "display_name": "Python 3 (ipykernel)",
   "language": "python",
   "name": "python3"
  },
  "language_info": {
   "codemirror_mode": {
    "name": "ipython",
    "version": 3
   },
   "file_extension": ".py",
   "mimetype": "text/x-python",
   "name": "python",
   "nbconvert_exporter": "python",
   "pygments_lexer": "ipython3",
   "version": "3.11.4"
  }
 },
 "nbformat": 4,
 "nbformat_minor": 5
}
